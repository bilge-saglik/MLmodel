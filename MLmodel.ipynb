{
 "cells": [
  {
   "cell_type": "code",
   "execution_count": 240,
   "id": "88a5ca8f-2ac7-4124-a414-8a0cbba0d6b6",
   "metadata": {},
   "outputs": [],
   "source": [
    "import tkinter as tk\n",
    "from tkinter import messagebox"
   ]
  },
  {
   "cell_type": "code",
   "execution_count": 254,
   "id": "d42fa8a3-3579-4359-923a-75acccde1014",
   "metadata": {},
   "outputs": [],
   "source": [
    "def predict():\n",
    "#Veri dosyalarının okunduğu ve yüklendiği kısım\n",
    "\n",
    "    def load_data(file_path):\n",
    "        with open(file_path, 'r', encoding='utf-8') as file:\n",
    "            data = file.readlines()\n",
    "        return data\n",
    "\n",
    "    product_descriptions = load_data('Product_Explanation.txt')\n",
    "    product_categories = load_data('product_categories.txt')\n"
   ]
  },
  {
   "cell_type": "code",
   "execution_count": 260,
   "id": "514af0b7-4748-4122-a410-56ac425e383a",
   "metadata": {},
   "outputs": [
    {
     "name": "stdout",
     "output_type": "stream",
     "text": [
      "  Ürün ID                                Ürün Kategorisi Garanti Durumu  \\\n",
      "0     116                   116;TELEKOM > AKILLI TELEFON      diğerleri   \n",
      "1     462     462;Bilgisayar > Taşınabilir Bilgisayarlar      diğerleri   \n",
      "2    1286                   1286;Cep Telefonları > APPLE      diğerleri   \n",
      "3    1290                 1290;Cep Telefonları > SAMSUNG      diğerleri   \n",
      "4    1300  1300;Ev Elektroniği > Televizyonlar > SAMSUNG      diğerleri   \n",
      "\n",
      "                                     Ürün Açıklaması  \n",
      "0                                               null  \n",
      "1  HP Pavilion 11-n000nt Pentium N3540 4GB 750GB ...  \n",
      "2  STOKTAN AYNI GÜN TESLİM AYNI GÜN KARGO iPhone ...  \n",
      "3  Ağırlık (Gr.) 115 Boyut (mm.) 132.4 x 65.5 x 6...  \n",
      "4  ÖZELLİKLER Ekran Ekran Boyutu 48\" Ekran Boyutu...  \n"
     ]
    }
   ],
   "source": [
    "import pandas as pd\n",
    "import string\n",
    "#Veri seti oluşturulur ve ürün id kısmı belirtilir.\n",
    "punctuation_list = string.punctuation\n",
    "data = []\n",
    "for i in range(len(product_descriptions)):\n",
    "    line = product_descriptions[i].strip()\n",
    "    parts = line.split(';')\n",
    "    product_id = parts[0]\n",
    "    product_desc = ';'.join(parts[1:])  \n",
    "    \n",
    "    product_cat = product_categories[i].strip()\n",
    "#Garanti süresi için seçim  \n",
    "    if '24 ay' in product_desc:\n",
    "        garanti = '24 ay garantili'\n",
    "\n",
    "    else:\n",
    "        garanti = 'diğerleri'\n",
    "        \n",
    "    product_desc_clean = ''.join([char.lower() for char in product_desc if char not in punctuation_list])\n",
    "\n",
    "    data.append({'Ürün ID': product_id, 'Ürün Kategorisi': product_cat, 'Garanti Durumu': garanti, 'Ürün Açıklaması': product_desc})\n",
    "#Pandas ile data frame dönüşümü yapılır.\n",
    "df = pd.DataFrame(data)\n",
    "\n",
    "print(df.head())"
   ]
  },
  {
   "cell_type": "code",
   "execution_count": 263,
   "id": "76bb8029-a16e-4dd2-931b-da8e878b6b31",
   "metadata": {},
   "outputs": [
    {
     "name": "stdout",
     "output_type": "stream",
     "text": [
      "Accuracy: 0.9916666666666667\n",
      "\n",
      "Classification Report:\n",
      "                  precision    recall  f1-score   support\n",
      "\n",
      "24 ay garantili       0.50      0.33      0.40         3\n",
      "      diğerleri       0.99      1.00      1.00       357\n",
      "\n",
      "       accuracy                           0.99       360\n",
      "      macro avg       0.75      0.67      0.70       360\n",
      "   weighted avg       0.99      0.99      0.99       360\n",
      "\n"
     ]
    }
   ],
   "source": [
    "#Makine öğrenmesi modelinde kullanılacak gerekli kütüphaneler \n",
    "from sklearn.model_selection import train_test_split\n",
    "from sklearn.feature_extraction.text import CountVectorizer\n",
    "from sklearn.linear_model import LogisticRegression\n",
    "from sklearn.metrics import accuracy_score, classification_report\n",
    "import matplotlib.pyplot as plt\n",
    "import seaborn as sns\n",
    "\n",
    "X = df['Ürün Açıklaması']\n",
    "y = df['Garanti Durumu']\n",
    "\n",
    "vectorizer = CountVectorizer()\n",
    "X = vectorizer.fit_transform(X)\n",
    "\n",
    "X_train, X_test, y_train, y_test = train_test_split(X, y, test_size=0.2, random_state=42)\n",
    "#Lojistik regresyon kullanarak model eğitimi yapılır.\n",
    "model = LogisticRegression()\n",
    "model.fit(X_train, y_train)\n",
    "#Değerlendirme\n",
    "y_pred = model.predict(X_test)\n",
    "print(\"Accuracy:\", accuracy_score(y_test, y_pred))\n",
    "print(\"\\nClassification Report:\\n\", classification_report(y_test, y_pred))\n",
    "\n",
    "root = tk.Tk()\n",
    "root.title(\"Interface\")\n",
    "\n",
    "# Giriş alanı\n",
    "label = tk.Label(root, text=\"Garanti Süresi:\")\n",
    "label.pack()\n",
    "\n",
    "product_desc_entry = tk.Text(root, height=4, width=50)\n",
    "product_desc_entry.pack()\n",
    "\n",
    "# Tahmin butonu\n",
    "predict_button = tk.Button(root, text=\"Sırala\", command=predict)\n",
    "predict_button.pack()\n",
    "\n",
    "root.mainloop()"
   ]
  },
  {
   "cell_type": "code",
   "execution_count": 256,
   "id": "41ddb88c-04c6-4eb7-8634-6459f6844469",
   "metadata": {},
   "outputs": [],
   "source": []
  },
  {
   "cell_type": "code",
   "execution_count": null,
   "id": "e85b5406-07b2-44f1-83ba-05dd0bfe51cf",
   "metadata": {},
   "outputs": [],
   "source": []
  }
 ],
 "metadata": {
  "kernelspec": {
   "display_name": "Python 3 (ipykernel)",
   "language": "python",
   "name": "python3"
  },
  "language_info": {
   "codemirror_mode": {
    "name": "ipython",
    "version": 3
   },
   "file_extension": ".py",
   "mimetype": "text/x-python",
   "name": "python",
   "nbconvert_exporter": "python",
   "pygments_lexer": "ipython3",
   "version": "3.12.4"
  }
 },
 "nbformat": 4,
 "nbformat_minor": 5
}
